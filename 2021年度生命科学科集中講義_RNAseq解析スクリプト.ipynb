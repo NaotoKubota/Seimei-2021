{
  "nbformat": 4,
  "nbformat_minor": 0,
  "metadata": {
    "colab": {
      "name": "2021年度生命科学科集中講義_RNAseq解析スクリプト.ipynb",
      "provenance": [],
      "collapsed_sections": [],
      "mount_file_id": "1FqmJrtlXxyfOvn3vygNG5Hrqh_1xrC6g",
      "authorship_tag": "ABX9TyPIHhPdH82G4zjxWMl5dQSw",
      "include_colab_link": true
    },
    "kernelspec": {
      "display_name": "Python 3",
      "name": "python3"
    },
    "language_info": {
      "name": "python"
    }
  },
  "cells": [
    {
      "cell_type": "markdown",
      "metadata": {
        "id": "view-in-github",
        "colab_type": "text"
      },
      "source": [
        "<a href=\"https://colab.research.google.com/github/NaotoKubota/Seimei-2021/blob/master/2021%E5%B9%B4%E5%BA%A6%E7%94%9F%E5%91%BD%E7%A7%91%E5%AD%A6%E7%A7%91%E9%9B%86%E4%B8%AD%E8%AC%9B%E7%BE%A9_RNAseq%E8%A7%A3%E6%9E%90%E3%82%B9%E3%82%AF%E3%83%AA%E3%83%97%E3%83%88.ipynb\" target=\"_parent\"><img src=\"https://colab.research.google.com/assets/colab-badge.svg\" alt=\"Open In Colab\"/></a>"
      ]
    },
    {
      "cell_type": "markdown",
      "metadata": {
        "id": "R8D0Hku2HI3k"
      },
      "source": [
        "# 2021年度生命科学科講義用スクリプト v1.1.0\n",
        "\n",
        "1. Minicondaによるツールのインストール（seqtk, fastp, hisat2, samtools, subread）\n",
        "2. RNA-seqデータのダウンロード\n",
        "3. ダウンサンプリング（seqtk）\n",
        "4. クオリティーコントロール（fastp）\n",
        "5. マッピング（hisat2） & samファイルをbamファイルに変換（samtools）\n",
        "6. 発現量のカウント（featureCounts）\n",
        "\n",
        "2021.07.14 久保田"
      ]
    },
    {
      "cell_type": "markdown",
      "metadata": {
        "id": "zKglQuXCs5XK"
      },
      "source": [
        "## 1. Minicondaによるツールのインストール（seqtk, fastp, hisat2, samtools, subread）"
      ]
    },
    {
      "cell_type": "code",
      "metadata": {
        "id": "M0md9QnRmlTL"
      },
      "source": [
        "%%bash\n",
        "# Minicondaのダウンロード\n",
        "wget https://repo.continuum.io/miniconda/Miniconda3-py38_4.8.3-Linux-x86_64.sh && \\\n",
        "bash Miniconda3-py38_4.8.3-Linux-x86_64.sh -bfp /usr/local"
      ],
      "execution_count": null,
      "outputs": []
    },
    {
      "cell_type": "code",
      "metadata": {
        "id": "qIepXzEOmvNe"
      },
      "source": [
        "%%bash\n",
        "# 必要なツールのインストール\n",
        "conda config --add channels conda-forge\n",
        "conda config --add channels bioconda\n",
        "conda install seqtk fastp hisat2 samtools subread "
      ],
      "execution_count": null,
      "outputs": []
    },
    {
      "cell_type": "markdown",
      "metadata": {
        "id": "OVRorv21tLG2"
      },
      "source": [
        "## 2. RNA-seqデータのダウンロード"
      ]
    },
    {
      "cell_type": "code",
      "metadata": {
        "colab": {
          "base_uri": "https://localhost:8080/"
        },
        "id": "Reb2MvVaBuPr",
        "outputId": "7b41cd97-8354-4110-d2ad-772a715bb610"
      },
      "source": [
        "%%bash\n",
        "# RNA-seqデータのダウンロード\n",
        "wget ftp://ftp.sra.ebi.ac.uk/vol1/fastq/SRR650/003/SRR6503273/SRR6503273_1.fastq.gz\n",
        "wget ftp://ftp.sra.ebi.ac.uk/vol1/fastq/SRR650/003/SRR6503273/SRR6503273_2.fastq.gz\n",
        "wget ftp://ftp.sra.ebi.ac.uk/vol1/fastq/SRR650/004/SRR6503274/SRR6503274_1.fastq.gz\n",
        "wget ftp://ftp.sra.ebi.ac.uk/vol1/fastq/SRR650/004/SRR6503274/SRR6503274_2.fastq.gz\n",
        "wget ftp://ftp.sra.ebi.ac.uk/vol1/fastq/SRR650/005/SRR6503275/SRR6503275_1.fastq.gz\n",
        "wget ftp://ftp.sra.ebi.ac.uk/vol1/fastq/SRR650/005/SRR6503275/SRR6503275_2.fastq.gz\n",
        "wget ftp://ftp.sra.ebi.ac.uk/vol1/fastq/SRR650/006/SRR6503276/SRR6503276_1.fastq.gz\n",
        "wget ftp://ftp.sra.ebi.ac.uk/vol1/fastq/SRR650/006/SRR6503276/SRR6503276_2.fastq.gz"
      ],
      "execution_count": null,
      "outputs": [
        {
          "name": "stderr",
          "output_type": "stream",
          "text": [
            "IOPub data rate exceeded.\n",
            "The notebook server will temporarily stop sending output\n",
            "to the client in order to avoid crashing it.\n",
            "To change this limit, set the config variable\n",
            "`--NotebookApp.iopub_data_rate_limit`.\n",
            "\n",
            "Current values:\n",
            "NotebookApp.iopub_data_rate_limit=1000000.0 (bytes/sec)\n",
            "NotebookApp.rate_limit_window=3.0 (secs)\n",
            "\n"
          ]
        }
      ]
    },
    {
      "cell_type": "markdown",
      "metadata": {
        "id": "tbDPEunG_15H"
      },
      "source": [
        "## 3. ダウンサンプリング（seqtk）"
      ]
    },
    {
      "cell_type": "code",
      "metadata": {
        "colab": {
          "background_save": true
        },
        "id": "oJuh1QjPZL5D",
        "outputId": "777fab36-cd92-46e2-9f8f-98a284870876"
      },
      "source": [
        "%%bash\n",
        "\n",
        "for SRR_ID in SRR650327{3..6};\n",
        "do\n",
        "\n",
        "  # 1000万リードをランダムサンプリング\n",
        "  seqtk sample -s 100 ${SRR_ID}_1.fastq.gz 10000000 | gzip -c > ${SRR_ID}_1_10M.fastq.gz\n",
        "  seqtk sample -s 100 ${SRR_ID}_2.fastq.gz 10000000 | gzip -c > ${SRR_ID}_2_10M.fastq.gz\n",
        "\n",
        "  # 不要なファイルを削除\n",
        "  rm ${SRR_ID}_1.fastq.gz ${SRR_ID}_2.fastq.gz\n",
        "\n",
        "done"
      ],
      "execution_count": null,
      "outputs": [
        {
          "name": "stderr",
          "output_type": "stream",
          "text": [
            "tcmalloc: large alloc 1120002048 bytes == 0x563114630000 @  0x7fa91f045001 0x563112af4277 0x7fa91e8a2bf7 0x563112aed630\n",
            "tcmalloc: large alloc 1120002048 bytes == 0x560310f2c000 @  0x7f759a523001 0x56030e92e277 0x7f7599d80bf7 0x56030e927630\n",
            "tcmalloc: large alloc 1120002048 bytes == 0x56348a97a000 @  0x7fdfe8940001 0x563489ec6277 0x7fdfe819dbf7 0x563489ebf630\n",
            "tcmalloc: large alloc 1120002048 bytes == 0x560e9887c000 @  0x7f57b943e001 0x560e97e0a277 0x7f57b8c9bbf7 0x560e97e03630\n",
            "tcmalloc: large alloc 1120002048 bytes == 0x55aea3656000 @  0x7f58621ed001 0x55aea29c5277 0x7f5861a4abf7 0x55aea29be630\n",
            "tcmalloc: large alloc 1120002048 bytes == 0x563cb5922000 @  0x7f5c37db6001 0x563cb46b6277 0x7f5c37613bf7 0x563cb46af630\n",
            "tcmalloc: large alloc 1120002048 bytes == 0x55d207784000 @  0x7f9176ec8001 0x55d2065b6277 0x7f9176725bf7 0x55d2065af630\n",
            "tcmalloc: large alloc 1120002048 bytes == 0x55d671870000 @  0x7fa36c0fb001 0x55d670cfd277 0x7fa36b958bf7 0x55d670cf6630\n"
          ]
        }
      ]
    },
    {
      "cell_type": "markdown",
      "metadata": {
        "id": "ghbUhtTNtRlQ"
      },
      "source": [
        "## 4. クオリティーコントロール（fastp）"
      ]
    },
    {
      "cell_type": "code",
      "metadata": {
        "id": "xZfmybgsFmMs"
      },
      "source": [
        "%%bash\n",
        "\n",
        "for SRR_ID in SRR650327{3..6};\n",
        "do\n",
        "\n",
        "  # fastpを使ってクオリティーコントロール\n",
        "  # tail末端の1塩基をトリミングする。 20bp以下は捨てる。2スレッド使う。\n",
        "  fastp -i ${SRR_ID}_1_10M.fastq.gz -I ${SRR_ID}_2_10M.fastq.gz \\\n",
        "  -o ${SRR_ID}_1_10M_filter.fastq.gz -O ${SRR_ID}_2_10M_filter.fastq.gz \\\n",
        "  -h ${SRR_ID}_report.html -j ${SRR_ID}_report.json -q 15 -n 10 -t 1 -T 1 -l 20 -w 2\n",
        "\n",
        "  # 元のfastqファイルを削除\n",
        "  rm ${SRR_ID}_1_10M.fastq.gz ${SRR_ID}_2_10M.fastq.gz\n",
        "\n",
        "done"
      ],
      "execution_count": null,
      "outputs": []
    },
    {
      "cell_type": "markdown",
      "metadata": {
        "id": "1Wh3flI-tZkY"
      },
      "source": [
        "## 5. マッピング（hisat2） & samファイルをbamファイルに変換（samtools）"
      ]
    },
    {
      "cell_type": "code",
      "metadata": {
        "colab": {
          "background_save": true
        },
        "id": "AwFd-cI4m3Dh",
        "outputId": "6d2e685d-3d13-4965-e90f-17c64ffe9eca"
      },
      "source": [
        "%%bash\n",
        "# hisat2のindexをダウンロード\n",
        "wget ftp://ftp.ccb.jhu.edu/pub/infphilo/hisat2/data/hg38.tar.gz\n",
        "tar -zxvf hg38.tar.gz\n",
        "rm hg38.tar.gz "
      ],
      "execution_count": null,
      "outputs": [
        {
          "name": "stdout",
          "output_type": "stream",
          "text": [
            "hg38/\n",
            "hg38/make_hg38.sh\n",
            "hg38/genome.8.ht2\n",
            "hg38/genome.5.ht2\n",
            "hg38/genome.7.ht2\n",
            "hg38/genome.6.ht2\n",
            "hg38/genome.4.ht2\n",
            "hg38/genome.3.ht2\n",
            "hg38/genome.1.ht2\n",
            "hg38/genome.2.ht2\n"
          ]
        },
        {
          "name": "stderr",
          "output_type": "stream",
          "text": [
            "IOPub data rate exceeded.\n",
            "The notebook server will temporarily stop sending output\n",
            "to the client in order to avoid crashing it.\n",
            "To change this limit, set the config variable\n",
            "`--NotebookApp.iopub_data_rate_limit`.\n",
            "\n",
            "Current values:\n",
            "NotebookApp.iopub_data_rate_limit=1000000.0 (bytes/sec)\n",
            "NotebookApp.rate_limit_window=3.0 (secs)\n",
            "\n"
          ]
        }
      ]
    },
    {
      "cell_type": "code",
      "metadata": {
        "id": "945_0HlNQJrS"
      },
      "source": [
        "%%bash\n",
        "\n",
        "for SRR_ID in SRR650327{3..6};\n",
        "do\n",
        "\n",
        "  # hisat2によるマッピング\n",
        "  hisat2 -t -p 2 -x hg38/genome \\\n",
        "  -1 ${SRR_ID}_1_10M_filter.fastq.gz -2 ${SRR_ID}_2_10M_filter.fastq.gz \\\n",
        "  -S ${SRR_ID}.sam --summary-file ${SRR_ID}.txt\n",
        "\n",
        "  # samtoolsでsamをbamに変換 & sort\n",
        "  samtools sort -@ 2 -O bam -o ${SRR_ID}.sort.bam ${SRR_ID}.sam\n",
        "\n",
        "  # 不要なファイルの削除\n",
        "  rm ${SRR_ID}_1_10M_filter.fastq.gz ${SRR_ID}_2_10M_filter.fastq.gz ${SRR_ID}.sam\n",
        "\n",
        "done"
      ],
      "execution_count": null,
      "outputs": []
    },
    {
      "cell_type": "code",
      "metadata": {
        "id": "ZXWP8cxFOtlh"
      },
      "source": [
        "%%bash\n",
        "\n",
        "# SRR6503273.sort.bamのchr22にマップされたリードのみ抽出\n",
        "samtools index SRR6503273.sort.bam && \\\n",
        "samtools view -b SRR6503273.sort.bam chr22 > SRR6503273.chr22.sort.bam && \\\n",
        "samtools index SRR6503273.chr22.sort.bam"
      ],
      "execution_count": null,
      "outputs": []
    },
    {
      "cell_type": "markdown",
      "metadata": {
        "id": "7BuJXf90tr9P"
      },
      "source": [
        "## 6. 発現量のカウント（featureCounts）"
      ]
    },
    {
      "cell_type": "code",
      "metadata": {
        "id": "3JywqIjcQPZW"
      },
      "source": [
        "%%bash\n",
        "# GTFファイルのダウンロード\n",
        "wget ftp://ftp.ensembl.org/pub/release-98/gtf/homo_sapiens/Homo_sapiens.GRCh38.98.gtf.gz\n",
        "gzip -d Homo_sapiens.GRCh38.98.gtf.gz"
      ],
      "execution_count": null,
      "outputs": []
    },
    {
      "cell_type": "code",
      "metadata": {
        "id": "q-P7W1A-DV5k",
        "colab": {
          "base_uri": "https://localhost:8080/"
        },
        "outputId": "393a9164-389a-4456-86be-c28613fb2374"
      },
      "source": [
        "%%bash\n",
        "# featureCountsで発現量をカウント\n",
        "featureCounts -p -B -t exon -g gene_id \\\n",
        "-a Homo_sapiens.GRCh38.98.gtf \\\n",
        "-o all_counts.txt \\\n",
        "*.sort.bam"
      ],
      "execution_count": null,
      "outputs": [
        {
          "output_type": "stream",
          "name": "stderr",
          "text": [
            "\n",
            "        ==========     _____ _    _ ____  _____  ______          _____  \n",
            "        =====         / ____| |  | |  _ \\|  __ \\|  ____|   /\\   |  __ \\ \n",
            "          =====      | (___ | |  | | |_) | |__) | |__     /  \\  | |  | |\n",
            "            ====      \\___ \\| |  | |  _ <|  _  /|  __|   / /\\ \\ | |  | |\n",
            "              ====    ____) | |__| | |_) | | \\ \\| |____ / ____ \\| |__| |\n",
            "        ==========   |_____/ \\____/|____/|_|  \\_\\______/_/    \\_\\_____/\n",
            "\t  v2.0.1\n",
            "\n",
            "//========================== featureCounts setting ===========================\\\\\n",
            "||                                                                            ||\n",
            "||             Input files : 4 BAM files                                      ||\n",
            "||                           o SRR6503273.sort.bam                            ||\n",
            "||                           o SRR6503274.sort.bam                            ||\n",
            "||                           o SRR6503275.sort.bam                            ||\n",
            "||                           o SRR6503276.sort.bam                            ||\n",
            "||                                                                            ||\n",
            "||             Output file : all_counts.txt                                   ||\n",
            "||                 Summary : all_counts.txt.summary                           ||\n",
            "||              Annotation : Homo_sapiens.GRCh38.98.gtf (GTF)                 ||\n",
            "||      Dir for temp files : ./                                               ||\n",
            "||                                                                            ||\n",
            "||                 Threads : 1                                                ||\n",
            "||                   Level : meta-feature level                               ||\n",
            "||              Paired-end : yes                                              ||\n",
            "||      Multimapping reads : not counted                                      ||\n",
            "|| Multi-overlapping reads : not counted                                      ||\n",
            "||   Min overlapping bases : 1                                                ||\n",
            "||                                                                            ||\n",
            "||          Chimeric reads : counted                                          ||\n",
            "||        Both ends mapped : required                                         ||\n",
            "||                                                                            ||\n",
            "\\\\============================================================================//\n",
            "\n",
            "//================================= Running ==================================\\\\\n",
            "||                                                                            ||\n",
            "|| Load annotation file Homo_sapiens.GRCh38.98.gtf ...                        ||\n",
            "||    Features : 1371695                                                      ||\n",
            "||    Meta-features : 60623                                                   ||\n",
            "||    Chromosomes/contigs : 47                                                ||\n",
            "||                                                                            ||\n",
            "|| Process BAM file SRR6503273.sort.bam...                                    ||\n",
            "||    Paired-end reads are included.                                          ||\n",
            "||    Total alignments : 10926459                                             ||\n",
            "||    Successfully assigned alignments : 7933357 (72.6%)                      ||\n",
            "||    Running time : 0.95 minutes                                             ||\n",
            "||                                                                            ||\n",
            "|| Process BAM file SRR6503274.sort.bam...                                    ||\n",
            "||    Paired-end reads are included.                                          ||\n",
            "||    Total alignments : 10890483                                             ||\n",
            "||    Successfully assigned alignments : 7813247 (71.7%)                      ||\n",
            "||    Running time : 0.93 minutes                                             ||\n",
            "||                                                                            ||\n",
            "|| Process BAM file SRR6503275.sort.bam...                                    ||\n",
            "||    Paired-end reads are included.                                          ||\n",
            "||    Total alignments : 11093045                                             ||\n",
            "||    Successfully assigned alignments : 7866475 (70.9%)                      ||\n",
            "||    Running time : 0.98 minutes                                             ||\n",
            "||                                                                            ||\n",
            "|| Process BAM file SRR6503276.sort.bam...                                    ||\n",
            "||    Paired-end reads are included.                                          ||\n",
            "||    Total alignments : 11100376                                             ||\n",
            "||    Successfully assigned alignments : 8012040 (72.2%)                      ||\n",
            "||    Running time : 0.95 minutes                                             ||\n",
            "||                                                                            ||\n",
            "|| Write the final count table.                                               ||\n",
            "|| Write the read assignment summary.                                         ||\n",
            "||                                                                            ||\n",
            "|| Summary of counting results can be found in file \"all_counts.txt.summary\"  ||\n",
            "||                                                                            ||\n",
            "\\\\============================================================================//\n",
            "\n"
          ]
        }
      ]
    },
    {
      "cell_type": "markdown",
      "metadata": {
        "id": "kFHKQv-cJ-uD"
      },
      "source": [
        "`all_counts.txt`をローカルPCにダウンロードする"
      ]
    }
  ]
}