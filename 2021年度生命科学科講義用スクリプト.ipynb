{
  "nbformat": 4,
  "nbformat_minor": 0,
  "metadata": {
    "colab": {
      "name": "2021年度生命科学科講義用スクリプト.ipynb",
      "provenance": [],
      "collapsed_sections": [],
      "mount_file_id": "1FqmJrtlXxyfOvn3vygNG5Hrqh_1xrC6g",
      "authorship_tag": "ABX9TyP1cnm8nbWDTtBHAo1mioeq",
      "include_colab_link": true
    },
    "kernelspec": {
      "display_name": "Python 3",
      "name": "python3"
    },
    "language_info": {
      "name": "python"
    }
  },
  "cells": [
    {
      "cell_type": "markdown",
      "metadata": {
        "id": "view-in-github",
        "colab_type": "text"
      },
      "source": [
        "<a href=\"https://colab.research.google.com/github/NaotoKubota/Seimei-2021/blob/master/2021%E5%B9%B4%E5%BA%A6%E7%94%9F%E5%91%BD%E7%A7%91%E5%AD%A6%E7%A7%91%E8%AC%9B%E7%BE%A9%E7%94%A8%E3%82%B9%E3%82%AF%E3%83%AA%E3%83%97%E3%83%88.ipynb\" target=\"_parent\"><img src=\"https://colab.research.google.com/assets/colab-badge.svg\" alt=\"Open In Colab\"/></a>"
      ]
    },
    {
      "cell_type": "markdown",
      "metadata": {
        "id": "R8D0Hku2HI3k"
      },
      "source": [
        "# 2021年度生命科学科講義用スクリプト v1.1.0\n",
        "\n",
        "1. Minicondaによるツールのインストール（seqtk, fastp, hisat2, samtools, subread）\n",
        "2. RNA-seqデータのダウンロード\n",
        "3. ダウンサンプリング（seqtk）\n",
        "4. クオリティーコントロール（fastp）\n",
        "5. マッピング（hisat2） & samファイルをbamファイルに変換（samtools）\n",
        "6. 発現量のカウント（featureCounts）\n",
        "\n",
        "2021.07.14 久保田"
      ]
    },
    {
      "cell_type": "markdown",
      "metadata": {
        "id": "zKglQuXCs5XK"
      },
      "source": [
        "## 1. Minicondaによるツールのインストール（seqtk, fastp, hisat2, samtools, subread）"
      ]
    },
    {
      "cell_type": "code",
      "metadata": {
        "id": "M0md9QnRmlTL"
      },
      "source": [
        "%%bash\n",
        "# Minicondaのダウンロード\n",
        "wget https://repo.continuum.io/miniconda/Miniconda3-py38_4.8.3-Linux-x86_64.sh && \\\n",
        "bash Miniconda3-py38_4.8.3-Linux-x86_64.sh -bfp /usr/local"
      ],
      "execution_count": null,
      "outputs": []
    },
    {
      "cell_type": "code",
      "metadata": {
        "id": "qIepXzEOmvNe"
      },
      "source": [
        "%%bash\n",
        "# 必要なツールのインストール\n",
        "conda config --add channels conda-forge\n",
        "conda config --add channels bioconda\n",
        "conda install seqtk fastp hisat2 samtools subread "
      ],
      "execution_count": null,
      "outputs": []
    },
    {
      "cell_type": "markdown",
      "metadata": {
        "id": "OVRorv21tLG2"
      },
      "source": [
        "## 2. RNA-seqデータのダウンロード"
      ]
    },
    {
      "cell_type": "code",
      "metadata": {
        "id": "Reb2MvVaBuPr"
      },
      "source": [
        "%%bash\n",
        "# RNA-seqデータのダウンロード\n",
        "wget ftp://ftp.sra.ebi.ac.uk/vol1/fastq/SRR650/003/SRR6503273/SRR6503273_1.fastq.gz\n",
        "wget ftp://ftp.sra.ebi.ac.uk/vol1/fastq/SRR650/003/SRR6503273/SRR6503273_2.fastq.gz\n",
        "wget ftp://ftp.sra.ebi.ac.uk/vol1/fastq/SRR650/004/SRR6503274/SRR6503274_1.fastq.gz\n",
        "wget ftp://ftp.sra.ebi.ac.uk/vol1/fastq/SRR650/004/SRR6503274/SRR6503274_2.fastq.gz\n",
        "wget ftp://ftp.sra.ebi.ac.uk/vol1/fastq/SRR650/005/SRR6503275/SRR6503275_1.fastq.gz\n",
        "wget ftp://ftp.sra.ebi.ac.uk/vol1/fastq/SRR650/005/SRR6503275/SRR6503275_2.fastq.gz\n",
        "wget ftp://ftp.sra.ebi.ac.uk/vol1/fastq/SRR650/006/SRR6503276/SRR6503276_1.fastq.gz\n",
        "wget ftp://ftp.sra.ebi.ac.uk/vol1/fastq/SRR650/006/SRR6503276/SRR6503276_2.fastq.gz"
      ],
      "execution_count": null,
      "outputs": []
    },
    {
      "cell_type": "markdown",
      "metadata": {
        "id": "tbDPEunG_15H"
      },
      "source": [
        "## 3. ダウンサンプリング（seqtk）"
      ]
    },
    {
      "cell_type": "code",
      "metadata": {
        "id": "oJuh1QjPZL5D"
      },
      "source": [
        "%%bash\n",
        "\n",
        "for SRR_ID in SRR650327{3..6};\n",
        "do\n",
        "\n",
        "  # 1000万リードをランダムサンプリング\n",
        "  seqtk sample -s 100 ${SRR_ID}_1.fastq.gz 10000000 | gzip -c > ${SRR_ID}_1_10M.fastq.gz\n",
        "  seqtk sample -s 100 ${SRR_ID}_2.fastq.gz 10000000 | gzip -c > ${SRR_ID}_2_10M.fastq.gz\n",
        "\n",
        "  # 不要なファイルを削除\n",
        "  rm ${SRR_ID}_1.fastq.gz ${SRR_ID}_2.fastq.gz\n",
        "\n",
        "done"
      ],
      "execution_count": null,
      "outputs": []
    },
    {
      "cell_type": "markdown",
      "metadata": {
        "id": "ghbUhtTNtRlQ"
      },
      "source": [
        "## 4. クオリティーコントロール（fastp）"
      ]
    },
    {
      "cell_type": "code",
      "metadata": {
        "id": "xZfmybgsFmMs"
      },
      "source": [
        "%%bash\n",
        "\n",
        "for SRR_ID in SRR650327{3..6};\n",
        "do\n",
        "\n",
        "  # fastpを使ってクオリティーコントロール\n",
        "  # tail末端の1塩基をトリミングする。 20bp以下は捨てる。2スレッド使う。\n",
        "  fastp -i ${SRR_ID}_1_10M.fastq.gz -I ${SRR_ID}_2_10M.fastq.gz \\\n",
        "  -o ${SRR_ID}_1_10M_filter.fastq.gz -O ${SRR_ID}_2_10M_filter.fastq.gz \\\n",
        "  -h ${SRR_ID}_report.html -j ${SRR_ID}_report.json -q 15 -n 10 -t 1 -T 1 -l 20 -w 2\n",
        "\n",
        "  # 元のfastqファイルを削除\n",
        "  rm ${SRR_ID}_1_10M.fastq.gz ${SRR_ID}_2_10M.fastq.gz\n",
        "\n",
        "done"
      ],
      "execution_count": null,
      "outputs": []
    },
    {
      "cell_type": "markdown",
      "metadata": {
        "id": "1Wh3flI-tZkY"
      },
      "source": [
        "## 5. マッピング（hisat2） & samファイルをbamファイルに変換（samtools）"
      ]
    },
    {
      "cell_type": "code",
      "metadata": {
        "id": "AwFd-cI4m3Dh"
      },
      "source": [
        "%%bash\n",
        "# hisat2のindexをダウンロード\n",
        "wget ftp://ftp.ccb.jhu.edu/pub/infphilo/hisat2/data/hg38.tar.gz\n",
        "tar -zxvf hg38.tar.gz\n",
        "rm hg38.tar.gz "
      ],
      "execution_count": null,
      "outputs": []
    },
    {
      "cell_type": "code",
      "metadata": {
        "id": "945_0HlNQJrS"
      },
      "source": [
        "%%bash\n",
        "\n",
        "for SRR_ID in SRR650327{3..6};\n",
        "do\n",
        "\n",
        "  # hisat2によるマッピング\n",
        "  hisat2 -t -p 2 -x hg38/genome \\\n",
        "  -1 ${SRR_ID}_1_10M_filter.fastq.gz -2 ${SRR_ID}_2_10M_filter.fastq.gz \\\n",
        "  -S ${SRR_ID}.sam --summary-file ${SRR_ID}.txt\n",
        "\n",
        "  # samtoolsでsamをbamに変換 & sort\n",
        "  samtools sort -@ 2 -O bam -o ${SRR_ID}.sort.bam ${SRR_ID}.sam\n",
        "\n",
        "  # 不要なファイルの削除\n",
        "  rm ${SRR_ID}_1_10M_filter.fastq.gz ${SRR_ID}_2_10M_filter.fastq.gz ${SRR_ID}.sam\n",
        "\n",
        "done"
      ],
      "execution_count": null,
      "outputs": []
    },
    {
      "cell_type": "markdown",
      "metadata": {
        "id": "7BuJXf90tr9P"
      },
      "source": [
        "## 6. 発現量のカウント（featureCounts）"
      ]
    },
    {
      "cell_type": "code",
      "metadata": {
        "id": "3JywqIjcQPZW"
      },
      "source": [
        "%%bash\n",
        "# GTFファイルのダウンロード\n",
        "wget ftp://ftp.ensembl.org/pub/release-98/gtf/homo_sapiens/Homo_sapiens.GRCh38.98.gtf.gz\n",
        "gzip -d Homo_sapiens.GRCh38.98.gtf.gz"
      ],
      "execution_count": null,
      "outputs": []
    },
    {
      "cell_type": "code",
      "metadata": {
        "id": "q-P7W1A-DV5k"
      },
      "source": [
        "%%bash\n",
        "# featureCountsで発現量をカウント\n",
        "featureCounts -p -B -t exon -g gene_id \\\n",
        "-a Homo_sapiens.GRCh38.98.gtf \\\n",
        "-o all_counts.txt \\\n",
        "*.sort.bam"
      ],
      "execution_count": null,
      "outputs": []
    },
    {
      "cell_type": "markdown",
      "metadata": {
        "id": "kFHKQv-cJ-uD"
      },
      "source": [
        "`all_counts.txt`をローカルPCにダウンロードする"
      ]
    }
  ]
}